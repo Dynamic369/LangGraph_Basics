{
 "cells": [
  {
   "cell_type": "markdown",
   "id": "cb4fe3e1",
   "metadata": {},
   "source": [
    "### Implementing the LangGraph in ChatBot"
   ]
  },
  {
   "cell_type": "code",
   "execution_count": null,
   "id": "9449d201",
   "metadata": {},
   "outputs": [],
   "source": [
    "from typing_extensions import TypedDict\n",
    "from langgraph.graph import StateGraph, START, END\n",
    "\n",
    "#Reducers\n",
    "from typing import Annotated\n",
    "from langgraph.graph.message import add_messages"
   ]
  },
  {
   "cell_type": "code",
   "execution_count": null,
   "id": "590f5d7e",
   "metadata": {},
   "outputs": [],
   "source": [
    "class State(TypedDict):\n",
    "    messages:Annotated[list,add_messages]"
   ]
  },
  {
   "cell_type": "code",
   "execution_count": null,
   "id": "96b81014",
   "metadata": {},
   "outputs": [],
   "source": [
    "import os\n",
    "from dotenv import load_dotenv\n",
    "load_dotenv()\n",
    "\n",
    "groq_api_key = os.getenv(\"GROQ_API_KEY\")\n",
    "\n",
    "from langchain_groq import ChatGroq\n",
    "llm = ChatGroq(model=\"llama-3.1-8b-instant\",groq_api_key=groq_api_key)\n",
    "llm.invoke(\"Hey, How are you?\")\n"
   ]
  },
  {
   "cell_type": "markdown",
   "id": "e0c0f4e4",
   "metadata": {},
   "source": [
    "### Start with creating Node"
   ]
  },
  {
   "cell_type": "code",
   "execution_count": null,
   "id": "0642d7eb",
   "metadata": {},
   "outputs": [],
   "source": [
    "def superbot(state:State):\n",
    "    return {\"messages\":[llm.invoke(state['messages'])]}"
   ]
  },
  {
   "cell_type": "code",
   "execution_count": null,
   "id": "8fc0450c",
   "metadata": {},
   "outputs": [],
   "source": [
    "graph = StateGraph(State)\n",
    "\n",
    "#node \n",
    "graph.add_node(\"Superbot\",superbot)\n",
    "\n",
    "# Edges \n",
    "graph.add_edge(START,\"Superbot\")\n",
    "graph.add_edge(\"Superbot\",END)\n",
    "\n",
    "graph_builder = graph.compile()\n",
    "\n",
    "# Display\n",
    "from IPython.display import Image, display\n",
    "display(Image(graph_builder.get_graph().draw_mermaid_png()))"
   ]
  },
  {
   "cell_type": "code",
   "execution_count": null,
   "id": "969ef24a",
   "metadata": {},
   "outputs": [],
   "source": [
    "## Invocation\n",
    "\n",
    "graph_builder.invoke({'messages':\"Hi,My name is Pradum and I like cricket\"})"
   ]
  },
  {
   "cell_type": "markdown",
   "id": "4a3081ff",
   "metadata": {},
   "source": [
    "### Streaming the responses"
   ]
  },
  {
   "cell_type": "code",
   "execution_count": null,
   "id": "f8a864ea",
   "metadata": {},
   "outputs": [],
   "source": [
    "graph_builder.stream({'messages':\"Hello, How are you?\"})"
   ]
  },
  {
   "cell_type": "markdown",
   "id": "14e5badf",
   "metadata": {},
   "source": [
    "If the output is something like above one then apply below method"
   ]
  },
  {
   "cell_type": "markdown",
   "id": "60580cbc",
   "metadata": {},
   "source": [
    "You can also use the streaming mode as values, updates by default it uses the updates mode"
   ]
  },
  {
   "cell_type": "code",
   "execution_count": null,
   "id": "d2a4a7db",
   "metadata": {},
   "outputs": [],
   "source": [
    "for event in graph_builder.stream({\"messages\":\"hello,how are you??\"},stream_mode=\"values\"):\n",
    "    print(event)"
   ]
  },
  {
   "cell_type": "code",
   "execution_count": null,
   "id": "24d119fd",
   "metadata": {},
   "outputs": [],
   "source": [
    "for event in graph_builder.stream({\"messages\":\"hello,how are you??\"},stream_mode=\"updates\"):\n",
    "    print(event)"
   ]
  },
  {
   "cell_type": "code",
   "execution_count": null,
   "id": "9fe5e95d",
   "metadata": {},
   "outputs": [],
   "source": []
  }
 ],
 "metadata": {
  "kernelspec": {
   "display_name": "Python 3",
   "language": "python",
   "name": "python3"
  },
  "language_info": {
   "codemirror_mode": {
    "name": "ipython",
    "version": 3
   },
   "file_extension": ".py",
   "mimetype": "text/x-python",
   "name": "python",
   "nbconvert_exporter": "python",
   "pygments_lexer": "ipython3",
   "version": "3.12.0"
  }
 },
 "nbformat": 4,
 "nbformat_minor": 5
}
