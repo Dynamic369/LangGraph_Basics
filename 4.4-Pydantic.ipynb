{
 "cells": [
  {
   "cell_type": "markdown",
   "id": "c7c5ebe9",
   "metadata": {},
   "source": [
    "### Pydantic Data Validation"
   ]
  },
  {
   "cell_type": "code",
   "execution_count": null,
   "id": "5395df64",
   "metadata": {},
   "outputs": [],
   "source": [
    "from langgraph.graph import StateGraph, START, END\n",
    "from pydantic import BaseModel"
   ]
  },
  {
   "cell_type": "code",
   "execution_count": null,
   "id": "5c7f94da",
   "metadata": {},
   "outputs": [],
   "source": [
    "class State(BaseModel):\n",
    "    name:str"
   ]
  },
  {
   "cell_type": "code",
   "execution_count": null,
   "id": "8f4e47e4",
   "metadata": {},
   "outputs": [],
   "source": [
    "# node function\n",
    "def example_node(State):\n",
    "    return {\"name\":State.name + \" is a very good boy.\"}"
   ]
  },
  {
   "cell_type": "code",
   "execution_count": null,
   "id": "8b630bf2",
   "metadata": {},
   "outputs": [],
   "source": [
    "## StateGraph\n",
    "builder = StateGraph(State)\n",
    "builder.add_node(\"example_node\",example_node)\n",
    "\n",
    "builder.add_edge(START,\"example_node\")\n",
    "builder.add_edge(\"example_node\",END)\n",
    "\n",
    "graph = builder.compile()"
   ]
  },
  {
   "cell_type": "code",
   "execution_count": null,
   "id": "b81faf2d",
   "metadata": {},
   "outputs": [],
   "source": [
    "from IPython.display import display, Image\n",
    "\n",
    "display(Image(graph.get_graph().draw_mermaid_png()))"
   ]
  },
  {
   "cell_type": "code",
   "execution_count": null,
   "id": "7675d55c",
   "metadata": {},
   "outputs": [],
   "source": [
    "graph.invoke({\"name\":\"Pradum\"})"
   ]
  }
 ],
 "metadata": {
  "kernelspec": {
   "display_name": "Python 3",
   "language": "python",
   "name": "python3"
  },
  "language_info": {
   "codemirror_mode": {
    "name": "ipython",
    "version": 3
   },
   "file_extension": ".py",
   "mimetype": "text/x-python",
   "name": "python",
   "nbconvert_exporter": "python",
   "pygments_lexer": "ipython3",
   "version": "3.12.0"
  }
 },
 "nbformat": 4,
 "nbformat_minor": 5
}
