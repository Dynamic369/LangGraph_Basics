{
 "cells": [
  {
   "cell_type": "markdown",
   "id": "17e507f5",
   "metadata": {},
   "source": [
    "### Build a simple Worlfloe or Graph Using LangGraph"
   ]
  },
  {
   "cell_type": "markdown",
   "id": "0669c835",
   "metadata": {},
   "source": [
    "Why TypedDict?\n",
    "\n",
    "TypedDict lets you describe the structure of such dictionaries:\n",
    "\n",
    "- Which keys the dictionary should have\n",
    "\n",
    "- What type of values each key should hold"
   ]
  },
  {
   "cell_type": "code",
   "execution_count": null,
   "id": "6ff21bfe",
   "metadata": {},
   "outputs": [],
   "source": [
    "from typing_extensions import TypedDict\n",
    "class State(TypedDict):\n",
    "    graph_info:str"
   ]
  },
  {
   "cell_type": "markdown",
   "id": "796ff6e0",
   "metadata": {},
   "source": [
    "Nodes"
   ]
  },
  {
   "cell_type": "code",
   "execution_count": null,
   "id": "04169e78",
   "metadata": {},
   "outputs": [],
   "source": [
    "def start_play(state:State):\n",
    "    print(\"Start_Play node has been called\")\n",
    "    return {\"graph_info\":state['graph_info'] + \"I am planning to play \"}\n",
    "\n",
    "def cricket(state:State):\n",
    "    print(\"My Cricket node has been called\")\n",
    "    return {\"graph_info\":state['graph_info'] + \"Cricket\"}\n",
    "\n",
    "def badminton(state:State):\n",
    "    print(\"My badminton node  has been called\")\n",
    "    return {\"graph_info\":state['graph_info'] + \"Badminton\"}"
   ]
  },
  {
   "cell_type": "code",
   "execution_count": null,
   "id": "c858bb90",
   "metadata": {},
   "outputs": [],
   "source": [
    "import random \n",
    "from typing import Literal\n",
    "\n",
    "def random_play(state:State) -> Literal['cricket','badminton']:\n",
    "    graph_info = state['graph_info']\n",
    "\n",
    "    if random.random() > 0.5:\n",
    "        return 'cricket'\n",
    "    else:\n",
    "        return 'badminton'"
   ]
  },
  {
   "cell_type": "markdown",
   "id": "17d0f39c",
   "metadata": {},
   "source": [
    "### Graph Construction"
   ]
  },
  {
   "cell_type": "code",
   "execution_count": null,
   "id": "bf24d554",
   "metadata": {},
   "outputs": [],
   "source": [
    "from IPython.display import display, Image\n",
    "from langgraph.graph import StateGraph, START,END\n",
    "\n",
    "#Build Graph\n",
    "graph = StateGraph(State)\n",
    "\n",
    "## Adding the nodes\n",
    "graph.add_node(\"start_play\",start_play)\n",
    "graph.add_node(\"cricket\",cricket)\n",
    "graph.add_node('badminton',badminton)\n",
    "\n",
    "## Schedule the flow of the graph\n",
    "graph.add_edge(START,\"start_play\")\n",
    "graph.add_conditional_edges(\"start_play\",random_play)\n",
    "graph.add_edge(\"cricket\",END)\n",
    "graph.add_edge(\"badminton\",END)\n",
    "\n",
    "#Compile the graph\n",
    "graph_builder=graph.compile()\n",
    "\n",
    "#View\n",
    "display(Image(graph_builder.get_graph().draw_mermaid_png()))"
   ]
  },
  {
   "cell_type": "code",
   "execution_count": null,
   "id": "f7cfb505",
   "metadata": {},
   "outputs": [],
   "source": [
    "graph_builder.invoke({'graph_info':\"Hi my name is Pradum.\"})"
   ]
  },
  {
   "cell_type": "code",
   "execution_count": null,
   "id": "554878ec",
   "metadata": {},
   "outputs": [],
   "source": []
  }
 ],
 "metadata": {
  "kernelspec": {
   "display_name": "Python 3",
   "language": "python",
   "name": "python3"
  },
  "language_info": {
   "codemirror_mode": {
    "name": "ipython",
    "version": 3
   },
   "file_extension": ".py",
   "mimetype": "text/x-python",
   "name": "python",
   "nbconvert_exporter": "python",
   "pygments_lexer": "ipython3",
   "version": "3.12.0"
  }
 },
 "nbformat": 4,
 "nbformat_minor": 5
}
