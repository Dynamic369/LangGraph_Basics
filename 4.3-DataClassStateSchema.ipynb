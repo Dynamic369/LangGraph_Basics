{
 "cells": [
  {
   "cell_type": "code",
   "execution_count": null,
   "id": "503b6332",
   "metadata": {},
   "outputs": [],
   "source": [
    "from typing_extensions import TypedDict\n",
    "from typing import Literal\n",
    "\n",
    "class TypedDictState(TypedDict):\n",
    "    name:str\n",
    "    game:Literal['cricket','badminton']\n",
    "    \n"
   ]
  },
  {
   "cell_type": "code",
   "execution_count": null,
   "id": "67c444dd",
   "metadata": {},
   "outputs": [],
   "source": [
    "def play_game(state:TypedDictState):\n",
    "    print(\"---Play game node has been called--\")\n",
    "    return {\"name\":state['name'] + \" want to play \"}\n",
    "\n",
    "def cricket(state:TypedDictState):\n",
    "    print(\"--Cricket Node has been called--\")\n",
    "    return {\"game\"+'cricket'}\n",
    "\n",
    "def badminton(state:TypedDictState):\n",
    "    print(\"--badminton node has been called---\")\n",
    "    return {'game':'badminton'}"
   ]
  },
  {
   "cell_type": "code",
   "execution_count": null,
   "id": "d2aaacb9",
   "metadata": {},
   "outputs": [],
   "source": [
    "import random\n",
    "def decide_play(state:TypedDictState)-> Literal['cricket','badminton']:\n",
    "    if random.random <0.55:\n",
    "        return \"cricket\"\n",
    "    else:\n",
    "        return \"badminton\"\n",
    "    "
   ]
  },
  {
   "cell_type": "code",
   "execution_count": null,
   "id": "7c31757a",
   "metadata": {},
   "outputs": [],
   "source": [
    "import random\n",
    "from IPython.display import Image,display\n",
    "from langgraph.graph import START,END, StateGraph\n",
    "\n",
    "builder = StateGraph(TypedDictState)\n",
    "builder.add_node(\"play_game\",play_game)\n",
    "builder.add_node(\"cricket\",cricket)\n",
    "builder.add_node(\"badminton\",badminton)\n",
    "\n",
    "## Flow of the graph\n",
    "builder.add_edge(START,\"play_game\")\n",
    "builder.add_conditional_edges(\"play_game\",decide_play)\n",
    "builder.add_edge(\"cricket\",END)\n",
    "builder.add_edge(\"badminton\",END)\n",
    "\n",
    "#compile\n",
    "graph=builder.compile()\n",
    "\n",
    "#View \n",
    "display(Image(graph.get_graph().draw_mermaid_png()))"
   ]
  },
  {
   "cell_type": "markdown",
   "id": "0498e8b3",
   "metadata": {},
   "source": [
    "IN case of TypedDict if we already set name:str but if we provide the int value it will not shows any error \n",
    "similar in case of dataclasses"
   ]
  },
  {
   "cell_type": "markdown",
   "id": "3a564bad",
   "metadata": {},
   "source": [
    "### DataClasses"
   ]
  },
  {
   "cell_type": "code",
   "execution_count": null,
   "id": "4c4e6516",
   "metadata": {},
   "outputs": [],
   "source": [
    "from dataclasses import dataclass\n",
    "@dataclass\n",
    "class DataClassState:\n",
    "    name:str\n",
    "    game:Literal['cricket','badminton']"
   ]
  },
  {
   "cell_type": "code",
   "execution_count": null,
   "id": "10da9823",
   "metadata": {},
   "outputs": [],
   "source": [
    "def play_game(state:DataClassState):\n",
    "    print(\"---Play game node has been called--\")\n",
    "    return {\"name\":state.name + \" want to play \"}\n",
    "\n",
    "def cricket(state:DataClassState):\n",
    "    print(\"--Cricket Node has been called--\")\n",
    "    return {\"name\":state.name + \"criclet\", \"game\":'cricket'}\n",
    "\n",
    "def badminton(state:DataClassState):\n",
    "    print(\"--badminton node has been called---\")\n",
    "    return {\"name\":state.name + \"badminton\", 'game':'badminton'}"
   ]
  },
  {
   "cell_type": "code",
   "execution_count": null,
   "id": "ecb8741f",
   "metadata": {},
   "outputs": [],
   "source": [
    "import random\n",
    "def decide_play(state:DataClassState)-> Literal['cricket','badminton']:\n",
    "    if random.random < 0.55:\n",
    "        return \"cricket\"\n",
    "    else:\n",
    "        return \"badminton\""
   ]
  },
  {
   "cell_type": "code",
   "execution_count": null,
   "id": "fec19f92",
   "metadata": {},
   "outputs": [],
   "source": [
    "import random\n",
    "from IPython.display import Image,display\n",
    "from langgraph.graph import START,END, StateGraph\n",
    "\n",
    "builder = StateGraph(DataClassState)\n",
    "builder.add_node(\"play_game\",play_game)\n",
    "builder.add_node(\"cricket\",cricket)\n",
    "builder.add_node(\"badminton\",badminton)\n",
    "\n",
    "## Flow of the graph\n",
    "builder.add_edge(START,\"play_game\")\n",
    "builder.add_conditional_edges(\"play_game\",decide_play)\n",
    "builder.add_edge(\"cricket\",END)\n",
    "builder.add_edge(\"badminton\",END)\n",
    "\n",
    "#compile\n",
    "graph=builder.compile()\n",
    "\n",
    "#View \n",
    "display(Image(graph.get_graph().draw_mermaid_png()))"
   ]
  },
  {
   "cell_type": "code",
   "execution_count": null,
   "id": "04db2ddc",
   "metadata": {},
   "outputs": [],
   "source": [
    "graph.invoke(DataClassState(name=\"Pradum\",game=\"badminton\"))"
   ]
  },
  {
   "cell_type": "code",
   "execution_count": null,
   "id": "577f7068",
   "metadata": {},
   "outputs": [],
   "source": []
  }
 ],
 "metadata": {
  "kernelspec": {
   "display_name": "Python 3",
   "language": "python",
   "name": "python3"
  },
  "language_info": {
   "codemirror_mode": {
    "name": "ipython",
    "version": 3
   },
   "file_extension": ".py",
   "mimetype": "text/x-python",
   "name": "python",
   "nbconvert_exporter": "python",
   "pygments_lexer": "ipython3",
   "version": "3.12.0"
  }
 },
 "nbformat": 4,
 "nbformat_minor": 5
}
